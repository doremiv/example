{
 "cells": [
  {
   "cell_type": "markdown",
   "id": "43450563",
   "metadata": {},
   "source": [
    "# [문제]\n",
    "- ChatPromptTemplate() : 역할 부여\n",
    "- InMemoryChatMessageHistory()\n",
    "- RunnableWithMessageHistory()\n",
    "- chain 구성"
   ]
  },
  {
   "cell_type": "markdown",
   "id": "e0dbca48",
   "metadata": {},
   "source": [
    "## [문제] 기존 String PromptTemplate을 ChatPromptTemplate으로 변경\n",
    "- Chain\n",
    "- prompt template: 직접 작성\n",
    "                   문서를 참고해서, 사용자 질문에 답변"
   ]
  },
  {
   "cell_type": "code",
   "execution_count": 5,
   "id": "449a8ec4",
   "metadata": {},
   "outputs": [
    {
     "name": "stdout",
     "output_type": "stream",
     "text": [
      "\n",
      "남녀고용평등과 일ㆍ가정 양립 지원에 관한 법률 ( 약칭: 남녀고용평등법 )\n",
      "[시행 20\n",
      "남녀고용평등법 제19조(육아휴직)에 따라, 기본적으로 육아휴직의 기간은 1년 이내로 정해져 있습니다(제19조 제2항). 다만, 특정 조건에 해당하는 근로자는 6개월 추가로 육아휴직을 더 사용할 수 있습니다. 예를 들어, 같은 자녀를 대상으로 부모가 모두 각각 3개월 이상 육아휴직을 사용하거나, 한부모가족지원법 제4조제1호의 부 또는 모, 또는 장애아동의 부모인 경우 등입니다.\n",
      "\n",
      "즉, 일반적으로는 1년이 최대 기간이지만, 일부 특별한 경우에는 6개월 더 연장하여 최대 1년 6개월까지 사용할 수 있습니다(제19조 제2항, 제19조의4 제1항).\n",
      "\n",
      "추가로, 구체적인 사용 방법이나 조건은 법률 또는 대통령령에 따라 정해지니, 상세한 사항은 관련 법령 또는 기업의 내부 규정을 참고하시기 바랍니다."
     ]
    },
    {
     "data": {
      "text/plain": [
       "InMemoryChatMessageHistory(messages=[HumanMessage(content='1년만 쓸수있나요?'), AIMessage(content='남녀고용평등법 제19조(육아휴직)에 따라, 기본적으로 육아휴직의 기간은 1년 이내로 정해져 있습니다(제19조 제2항). 다만, 특정 조건에 해당하는 근로자는 6개월 추가로 육아휴직을 더 사용할 수 있습니다. 예를 들어, 같은 자녀를 대상으로 부모가 모두 각각 3개월 이상 육아휴직을 사용하거나, 한부모가족지원법 제4조제1호의 부 또는 모, 또는 장애아동의 부모인 경우 등입니다.\\n\\n즉, 일반적으로는 1년이 최대 기간이지만, 일부 특별한 경우에는 6개월 더 연장하여 최대 1년 6개월까지 사용할 수 있습니다(제19조 제2항, 제19조의4 제1항).\\n\\n추가로, 구체적인 사용 방법이나 조건은 법률 또는 대통령령에 따라 정해지니, 상세한 사항은 관련 법령 또는 기업의 내부 규정을 참고하시기 바랍니다.', response_metadata={'finish_reason': 'stop', 'model_name': 'gpt-4.1-nano-2025-04-14', 'system_fingerprint': 'fp_eede8f0d45'}, id='run-7a6fd1fb-7ce0-460c-a6d3-abd795e9abad-0')])"
      ]
     },
     "execution_count": 5,
     "metadata": {},
     "output_type": "execute_result"
    }
   ],
   "source": [
    "## 1. 모듈(파일, 라이브러리) 읽어오기\n",
    "from langchain_openai import ChatOpenAI\n",
    "from langchain_core.runnables.history import RunnableWithMessageHistory\n",
    "from langchain_core.prompts import ChatPromptTemplate\n",
    "from langchain.callbacks.streaming_stdout import StreamingStdOutCallbackHandler\n",
    "from dotenv import load_dotenv\n",
    "from langchain_core.chat_history import (\n",
    "    InMemoryChatMessageHistory,\n",
    "    BaseChatMessageHistory\n",
    ")\n",
    "\n",
    "## 2. 환경변수에 설정된 값 읽어오기\n",
    "load_dotenv()\n",
    "\n",
    "## 3. 파일 읽기\n",
    "file_name = '남녀고용평등과 일ㆍ가정 양립 지원에 관한 법률(법률)(제20521호)(20250223).txt'\n",
    "\n",
    "with open(file_name, 'r', encoding='utf-8') as file:\n",
    "    law = file.read()\n",
    "    print(law[:50])\n",
    "\n",
    "## 4. prompt 생성\n",
    "template = [\n",
    "    ('system', '''당신은 육아휴직 법률 전문가입니다.\n",
    "     아래 문서를 참고하여, 사용자 질문에 성실하게 답변합니다.\n",
    "     답변은 문서 내용을 기반으로 하되, 해당 조항도 표시합니다.\n",
    "     - 문서: {law}'''),\n",
    "     ('placeholder', '{chat_history}'),\n",
    "    ('user', '{query}')\n",
    "]\n",
    "\n",
    "prompt = ChatPromptTemplate.from_messages(template)\n",
    "\n",
    "## 5. ChatOpenAI 인스턴스 생성\n",
    "llm = ChatOpenAI(\n",
    "    model='gpt-4.1-nano',\n",
    "    streaming=True,\n",
    "    callbacks=[StreamingStdOutCallbackHandler()],\n",
    ")\n",
    "\n",
    "## 6. chain 구성\n",
    "chain = prompt | llm\n",
    "\n",
    "## 7. 대화 이력(히스토리) 관리 인스턴스 생성\n",
    "history = InMemoryChatMessageHistory()\n",
    "\n",
    "# store 임시 메모리리\n",
    "store = {}\n",
    "\n",
    "## 8. 함수 정의: 대화 이력(히스토리) 인스턴스 리턴\n",
    "def get_history(session_id: str) -> BaseChatMessageHistory:\n",
    "    if session_id not in store:\n",
    "        store[session_id] = InMemoryChatMessageHistory()\n",
    "    return history\n",
    "\n",
    "## 9. 사용자 질문 받기\n",
    "query = input('육아휴직과 관련된 질문하세요 >> ')\n",
    "\n",
    "## 10. chain에 대화 이력(히스토리) 기능을 래핑해서 추가\n",
    "with_message_history = RunnableWithMessageHistory(\n",
    "    chain,\n",
    "    get_history,\n",
    "    history_messages_key='chat_history',\n",
    "    input_messages_key='query',\n",
    ")\n",
    "\n",
    "## 11. 실행\n",
    "with_message_history.invoke(\n",
    "    {'law': law, 'query': query},\n",
    "    config={'configurable': {'session_id':'abc'}}\n",
    ")\n",
    "get_history('abc')"
   ]
  }
 ],
 "metadata": {
  "kernelspec": {
   "display_name": "project",
   "language": "python",
   "name": "python3"
  },
  "language_info": {
   "codemirror_mode": {
    "name": "ipython",
    "version": 3
   },
   "file_extension": ".py",
   "mimetype": "text/x-python",
   "name": "python",
   "nbconvert_exporter": "python",
   "pygments_lexer": "ipython3",
   "version": "3.8.16"
  }
 },
 "nbformat": 4,
 "nbformat_minor": 5
}
