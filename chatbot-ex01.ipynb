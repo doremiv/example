{
 "cells": [
  {
   "cell_type": "markdown",
   "id": "76e216de",
   "metadata": {},
   "source": [
    "# 😍챗봇 만들기😍 #\n",
    "# 참고 레퍼런스 : https://python.langchain.com/docs/tutorials/chatbot/"
   ]
  },
  {
   "cell_type": "markdown",
   "id": "b76503de",
   "metadata": {},
   "source": [
    "## Quickstart"
   ]
  },
  {
   "cell_type": "markdown",
   "id": "2f40e75f",
   "metadata": {},
   "source": [
    "[image.png](attachment:image.png)"
   ]
  },
  {
   "cell_type": "code",
   "execution_count": 2,
   "id": "0638f782",
   "metadata": {},
   "outputs": [],
   "source": [
    "from langchain_openai import ChatOpenAI\n",
    "from langchain_core.messages import HumanMessage\n",
    "from dotenv import load_dotenv\n"
   ]
  },
  {
   "cell_type": "code",
   "execution_count": null,
   "id": "569cfb0c",
   "metadata": {},
   "outputs": [],
   "source": [
    "\n",
    "load_dotenv()\n"
   ]
  },
  {
   "cell_type": "code",
   "execution_count": null,
   "id": "0b155386",
   "metadata": {},
   "outputs": [],
   "source": [
    "model = ChatOpenAI(model='gpt-4.1-nano')\n",
    "model"
   ]
  },
  {
   "cell_type": "code",
   "execution_count": null,
   "id": "826dbc12",
   "metadata": {},
   "outputs": [],
   "source": [
    "response = model.invoke([HumanMessage(content=\"Hi! I'm Bob\")])"
   ]
  },
  {
   "cell_type": "code",
   "execution_count": null,
   "id": "456b0a1f",
   "metadata": {},
   "outputs": [],
   "source": [
    "ai_message_02= model.invoke('what is my name?')\n",
    "ai_message_02"
   ]
  },
  {
   "cell_type": "code",
   "execution_count": null,
   "id": "d680dbd1",
   "metadata": {},
   "outputs": [],
   "source": [
    "ai_message_02 = model.invoke([HumanMessage(content='what is my name?')])\n",
    "ai_message_02"
   ]
  }
 ],
 "metadata": {
  "kernelspec": {
   "display_name": "project",
   "language": "python",
   "name": "python3"
  },
  "language_info": {
   "codemirror_mode": {
    "name": "ipython",
    "version": 3
   },
   "file_extension": ".py",
   "mimetype": "text/x-python",
   "name": "python",
   "nbconvert_exporter": "python",
   "pygments_lexer": "ipython3",
   "version": "3.8.16"
  }
 },
 "nbformat": 4,
 "nbformat_minor": 5
}
